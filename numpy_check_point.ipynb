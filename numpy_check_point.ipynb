{
 "cells": [
  {
   "cell_type": "markdown",
   "metadata": {},
   "source": [
    "# Question 1 "
   ]
  },
  {
   "cell_type": "code",
   "execution_count": 20,
   "metadata": {},
   "outputs": [
    {
     "name": "stdout",
     "output_type": "stream",
     "text": [
      "[[17  8  4  3  5  2  7  8 14]]\n",
      "<class 'numpy.ndarray'>\n",
      "[[17, 8, 4, 3, 5, 2, 7, 8, 14]]\n",
      "<class 'list'>\n"
     ]
    }
   ],
   "source": [
    "import numpy as np\n",
    "new_array=np.random.randint(2,19,size=(1,9))\n",
    "print(new_array)\n",
    "print(type(new_array))\n",
    "my_list=new_array.tolist()\n",
    "print(my_list)\n",
    "print(type(my_list))"
   ]
  },
  {
   "cell_type": "markdown",
   "metadata": {},
   "source": [
    "# Question 2"
   ]
  },
  {
   "cell_type": "code",
   "execution_count": 114,
   "metadata": {},
   "outputs": [
    {
     "name": "stdout",
     "output_type": "stream",
     "text": [
      "[[2 4 2]\n",
      " [4 4 3]]\n",
      "la somme des element diagonal est = 6\n",
      "la somme des element diagonal est = 6\n"
     ]
    }
   ],
   "source": [
    "new_array=np.random.randint(2,5,size=(2,3))\n",
    "print(new_array)\n",
    "#Methode 1\n",
    "diag=np.diagonal(new_array)\n",
    "print('la somme des element diagonal est =',sum(diag))\n",
    "#Methode 2\n",
    "result =  np.trace(new_array)\n",
    "print('la somme des element diagonal est =',result)\n"
   ]
  },
  {
   "cell_type": "markdown",
   "metadata": {},
   "source": [
    "# Question 3 :\n"
   ]
  },
  {
   "cell_type": "code",
   "execution_count": 132,
   "metadata": {},
   "outputs": [
    {
     "name": "stdout",
     "output_type": "stream",
     "text": [
      "\n",
      " [[5 9 8]\n",
      " [5 2 6]]\n",
      "\n",
      "The value higher than x=3 are [5, 9, 8, 5, 6] :\n"
     ]
    }
   ],
   "source": [
    "import numpy as np\n",
    "new_array=np.random.randint(1,10,size=(2,3))\n",
    "print('\\n',new_array)\n",
    "x=3\n",
    "h_list=[]\n",
    "rows=new_array.shape[0]\n",
    "cols=new_array.shape[1]\n",
    "for i in range(0,rows):\n",
    "    for j in range(0,cols):\n",
    "        if (new_array[i,j]>x):\n",
    "            h_list.append(new_array[i,j])\n",
    "        else:\n",
    "            h_list=h_list\n",
    "print('\\nThe value higher than x=%d are %s :' % (x,h_list))"
   ]
  },
  {
   "cell_type": "markdown",
   "metadata": {},
   "source": [
    "# Question 4 : "
   ]
  },
  {
   "cell_type": "code",
   "execution_count": 112,
   "metadata": {},
   "outputs": [
    {
     "name": "stdout",
     "output_type": "stream",
     "text": [
      "\n",
      "A= [[1 7 3]\n",
      " [3 8 3]] \n",
      "\n",
      "\n",
      "B= [[11 10  5]\n",
      " [17 10  8]] \n",
      "\n",
      "C= [[12 17  8]\n",
      " [20 18 11]]\n"
     ]
    }
   ],
   "source": [
    "import numpy as np\n",
    "A=np.random.randint(1,10,size=(2,3))\n",
    "print('\\nA=',A,'\\n')\n",
    "B=np.random.randint(2,19,size=(2,3))\n",
    "print('\\nB=',B,'\\n')\n",
    "C=A+B\n",
    "print('C=',C)\n"
   ]
  },
  {
   "cell_type": "markdown",
   "metadata": {},
   "source": [
    "# Question 5 : "
   ]
  },
  {
   "cell_type": "code",
   "execution_count": 113,
   "metadata": {},
   "outputs": [
    {
     "name": "stdout",
     "output_type": "stream",
     "text": [
      "\n",
      "A= [[1 1 9 2 3]\n",
      " [7 2 4 9 8]\n",
      " [7 9 1 3 1]\n",
      " [7 5 2 3 7]\n",
      " [6 1 3 8 5]] \n",
      "\n",
      "\n",
      " Substract the mean of each row of the given matrix:\n",
      "\n",
      "[[-2.2 -2.2  5.8 -1.2 -0.2]\n",
      " [ 1.  -4.  -2.   3.   2. ]\n",
      " [ 2.8  4.8 -3.2 -1.2 -3.2]\n",
      " [ 2.2  0.2 -2.8 -1.8  2.2]\n",
      " [ 1.4 -3.6 -1.6  3.4  0.4]]\n"
     ]
    }
   ],
   "source": [
    "import numpy as np\n",
    "A=np.random.randint(1,10,size=(5,5))\n",
    "print('\\nA=',A,'\\n')\n",
    "print(\"\\n Substract the mean of each row of the given matrix:\\n\")\n",
    "Y =A-A.mean( axis=1 , keepdims=True )\n",
    "print(Y)"
   ]
  },
  {
   "cell_type": "code",
   "execution_count": null,
   "metadata": {},
   "outputs": [],
   "source": []
  }
 ],
 "metadata": {
  "kernelspec": {
   "display_name": "Python 3",
   "language": "python",
   "name": "python3"
  },
  "language_info": {
   "codemirror_mode": {
    "name": "ipython",
    "version": 3
   },
   "file_extension": ".py",
   "mimetype": "text/x-python",
   "name": "python",
   "nbconvert_exporter": "python",
   "pygments_lexer": "ipython3",
   "version": "3.8.5"
  }
 },
 "nbformat": 4,
 "nbformat_minor": 4
}
